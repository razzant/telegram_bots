{
 "cells": [
  {
   "cell_type": "markdown",
   "metadata": {
    "id": "pH-S_kuzKfis"
   },
   "source": [
    "# Telegram  chat-bot\n",
    "\n",
    "* It is the very easy example of telegram chat-bot. \n",
    "\n",
    "* To make it more complicated and clever you need to modify `gen_answer` function\n",
    "\n",
    "* Subscribe to my channel [@AbstractDL](https://t.me/abstractDL), it is about Deep Learning ;)"
   ]
  },
  {
   "cell_type": "code",
   "execution_count": null,
   "metadata": {
    "id": "fK0YqFDTJxuK"
   },
   "outputs": [],
   "source": [
    "!pip install python-telegram-bot\n",
    "import telegram\n",
    "from telegram.ext import Updater, CommandHandler\n",
    "from telegram.ext import MessageHandler, Filters\n",
    "\n",
    "from telegram import Update\n",
    "from telegram.ext import CallbackContext\n",
    "\n",
    "import regex as re\n",
    "import glob\n",
    "import os.path\n",
    "from IPython.display import clear_output\n",
    "clear_output()"
   ]
  },
  {
   "cell_type": "markdown",
   "metadata": {
    "id": "2XgjJAccDQjf"
   },
   "source": [
    "### API Token\n",
    "Here you need to insert your API token. \n",
    "\n",
    "You can create a bot and obtain it token here https://t.me/BotFather. It will take about 30 sec (just creating name)"
   ]
  },
  {
   "cell_type": "code",
   "execution_count": null,
   "metadata": {
    "id": "OQeFkAIvCDEu"
   },
   "outputs": [],
   "source": [
    "TOKEN = \"PUT HERE YOUR API BOT TOKEN\""
   ]
  },
  {
   "cell_type": "markdown",
   "metadata": {
    "id": "vSQ29sMiDgv5"
   },
   "source": [
    "### Generate answer\n",
    "It is a fuction, that creates the response of the bot given the lis of all messages. If you wand to make a generative chit-chat bot you can place something like [ruGPT-3](https://github.com/sberbank-ai/ru-gpts) here.\n"
   ]
  },
  {
   "cell_type": "code",
   "execution_count": null,
   "metadata": {
    "id": "gRMDhInzDNq1"
   },
   "outputs": [],
   "source": [
    "def gen_answer(history):\n",
    "    \"\"\"\n",
    "    Function for generating answer, given dialog history.\n",
    "    The last message in the history is the current message.\n",
    "    \"\"\"\n",
    "    answer = f\"You history is {history}\"\n",
    "    return answer"
   ]
  },
  {
   "cell_type": "markdown",
   "metadata": {
    "id": "qP0Sc2BeEQmB"
   },
   "source": [
    "### Хэндлеры\n",
    "Тут объявляются базовые функции бота, такие как `start`, `help`, `chat`"
   ]
  },
  {
   "cell_type": "code",
   "execution_count": null,
   "metadata": {
    "id": "dmd5tTUKKfiw"
   },
   "outputs": [],
   "source": [
    "updater = Updater(token=TOKEN, use_context=True)\n",
    "dispatcher = updater.dispatcher\n",
    "user_history = {}\n",
    "users = {}\n",
    "\n",
    "HELLO = \"This chatbot sends your message history in replay\\n\\n_Создатель: @AbstractDL_\"\n",
    "HELLO_START = \"It is a starting message\"\n",
    "\n",
    "def help(update: Update, context: CallbackContext):\n",
    "    \"\"\"\n",
    "    This happens when the user taps \"help\" button or sends \"\\help\"\n",
    "    You can add \"help\" button in the bot menu in the https://t.me/BotFather\n",
    "    \"\"\"\n",
    "    chat_id=update.effective_chat.id\n",
    "    text = HELLO\n",
    "    context.bot.send_message(chat_id=chat_id, text=text, parse_mode=\"Markdown\")\n",
    "\n",
    "\n",
    "def start(update: Update, context: CallbackContext):\n",
    "    \"\"\"\n",
    "    This happens whe the user taps \"start\" button or sends \"\\start\"\n",
    "    \"\"\"\n",
    "    chat_id=update.effective_chat.id\n",
    "    text = HELLO_START\n",
    "    context.bot.send_message(chat_id=chat_id, text=text, parse_mode=\"Markdown\")\n",
    "\n",
    "    first_name = update.message.chat.first_name\n",
    "    last_name = update.message.chat.last_name\n",
    "    username = update.message.chat.username\n",
    "\n",
    "    users[chat_id] = (username, first_name, last_name)\n",
    "    print(f\"#############\\nNEW_USER:     {chat_id}{users[chat_id]}\\n#############\")\n",
    "\n",
    "    \n",
    "def chat(update: Update, context: CallbackContext):\n",
    "    \"\"\"\n",
    "    Main chat handler\n",
    "    \"\"\"\n",
    "    chat_id=update.effective_chat.id\n",
    "    updater.bot.send_chat_action(chat_id=chat_id, action=telegram.ChatAction.TYPING)\n",
    "    message = update.message.text\n",
    "    message = re.sub(\"^a-zA-Zа-яА-Я0-9.,!?/@\", '', message)\n",
    "    \n",
    "    chat_id=update.effective_chat.id\n",
    "    first_name = update.message.chat.first_name\n",
    "    last_name = update.message.chat.last_name\n",
    "    username = update.message.chat.username\n",
    "    \n",
    "    if not chat_id in user_history:\n",
    "        user_history[chat_id] = [message]\n",
    "    else:\n",
    "        user_history[chat_id].append(message)\n",
    "        \n",
    "    history = user_history[chat_id]\n",
    "    answer = gen_answer(history)\n",
    "    user_history[chat_id].append(answer)\n",
    "    context.bot.send_message(chat_id=chat_id, text=answer)\n",
    "    print(f\"{chat_id}:\\t{message} ||| {answer}\")\n",
    "        \n",
    "\n",
    "chat_handler = MessageHandler(Filters.text & (~Filters.command), chat)\n",
    "dispatcher.add_handler(chat_handler)\n",
    "\n",
    "help_handler = CommandHandler(\"help\", help, filters=Filters.command)\n",
    "dispatcher.add_handler(help_handler)\n",
    "\n",
    "start_handler = CommandHandler(\"start\", start, filters=Filters.command)\n",
    "dispatcher.add_handler(start_handler)"
   ]
  },
  {
   "cell_type": "markdown",
   "metadata": {
    "id": "zjaO_-RYExin"
   },
   "source": [
    "### Запуск бота в бесконечном цикле"
   ]
  },
  {
   "cell_type": "code",
   "execution_count": null,
   "metadata": {
    "id": "tVN2zKS_Kfix",
    "scrolled": true,
    "tags": []
   },
   "outputs": [],
   "source": [
    "updater.start_polling()\n",
    "updater.idle()"
   ]
  }
 ],
 "metadata": {
  "accelerator": "GPU",
  "colab": {
   "collapsed_sections": [],
   "name": "Telegram_bot.ipynb",
   "provenance": []
  },
  "kernelspec": {
   "display_name": "py37",
   "language": "python",
   "name": "py37"
  },
  "language_info": {
   "codemirror_mode": {
    "name": "ipython",
    "version": 3
   },
   "file_extension": ".py",
   "mimetype": "text/x-python",
   "name": "python",
   "nbconvert_exporter": "python",
   "pygments_lexer": "ipython3",
   "version": "3.7.11"
  }
 },
 "nbformat": 4,
 "nbformat_minor": 4
}
